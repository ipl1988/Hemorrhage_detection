{
 "cells": [
  {
   "cell_type": "markdown",
   "id": "7d10347b-6d56-4b09-a24f-44b15de850d9",
   "metadata": {},
   "source": [
    "## Dataset"
   ]
  },
  {
   "cell_type": "code",
   "execution_count": 6,
   "id": "90007c87-1368-4cda-aefb-f0bffe597d88",
   "metadata": {},
   "outputs": [
    {
     "name": "stdout",
     "output_type": "stream",
     "text": [
      "Collecting gdown\n",
      "  Downloading gdown-5.2.0-py3-none-any.whl.metadata (5.8 kB)\n",
      "Collecting beautifulsoup4 (from gdown)\n",
      "  Using cached beautifulsoup4-4.12.3-py3-none-any.whl.metadata (3.8 kB)\n",
      "Collecting filelock (from gdown)\n",
      "  Downloading filelock-3.16.1-py3-none-any.whl.metadata (2.9 kB)\n",
      "Collecting requests[socks] (from gdown)\n",
      "  Using cached requests-2.32.3-py3-none-any.whl.metadata (4.6 kB)\n",
      "Requirement already satisfied: tqdm in /Users/ines/.pyenv/versions/3.10.6/envs/HEM_detect/lib/python3.10/site-packages (from gdown) (4.67.1)\n",
      "Collecting soupsieve>1.2 (from beautifulsoup4->gdown)\n",
      "  Using cached soupsieve-2.6-py3-none-any.whl.metadata (4.6 kB)\n",
      "Collecting charset-normalizer<4,>=2 (from requests[socks]->gdown)\n",
      "  Using cached charset_normalizer-3.4.0-cp310-cp310-macosx_10_9_x86_64.whl.metadata (34 kB)\n",
      "Collecting idna<4,>=2.5 (from requests[socks]->gdown)\n",
      "  Using cached idna-3.10-py3-none-any.whl.metadata (10 kB)\n",
      "Requirement already satisfied: urllib3<3,>=1.21.1 in /Users/ines/.pyenv/versions/3.10.6/envs/HEM_detect/lib/python3.10/site-packages (from requests[socks]->gdown) (2.2.3)\n",
      "Collecting certifi>=2017.4.17 (from requests[socks]->gdown)\n",
      "  Using cached certifi-2024.8.30-py3-none-any.whl.metadata (2.2 kB)\n",
      "Collecting PySocks!=1.5.7,>=1.5.6 (from requests[socks]->gdown)\n",
      "  Downloading PySocks-1.7.1-py3-none-any.whl.metadata (13 kB)\n",
      "Downloading gdown-5.2.0-py3-none-any.whl (18 kB)\n",
      "Using cached beautifulsoup4-4.12.3-py3-none-any.whl (147 kB)\n",
      "Downloading filelock-3.16.1-py3-none-any.whl (16 kB)\n",
      "Using cached certifi-2024.8.30-py3-none-any.whl (167 kB)\n",
      "Using cached charset_normalizer-3.4.0-cp310-cp310-macosx_10_9_x86_64.whl (125 kB)\n",
      "Using cached idna-3.10-py3-none-any.whl (70 kB)\n",
      "Downloading PySocks-1.7.1-py3-none-any.whl (16 kB)\n",
      "Using cached soupsieve-2.6-py3-none-any.whl (36 kB)\n",
      "Using cached requests-2.32.3-py3-none-any.whl (64 kB)\n",
      "Installing collected packages: soupsieve, PySocks, idna, filelock, charset-normalizer, certifi, requests, beautifulsoup4, gdown\n",
      "Successfully installed PySocks-1.7.1 beautifulsoup4-4.12.3 certifi-2024.8.30 charset-normalizer-3.4.0 filelock-3.16.1 gdown-5.2.0 idna-3.10 requests-2.32.3 soupsieve-2.6\n"
     ]
    }
   ],
   "source": [
    "!pip install gdown\n"
   ]
  },
  {
   "cell_type": "code",
   "execution_count": 7,
   "id": "da901d46-f899-49db-b92f-c3e247dc2fda",
   "metadata": {},
   "outputs": [
    {
     "name": "stdout",
     "output_type": "stream",
     "text": [
      "/Users/ines/.pyenv/versions/3.10.6/envs/HEM_detect/lib/python3.10/site-packages/gdown/parse_url.py:48: UserWarning: You specified a Google Drive link that is not the correct link to download a file. You might want to try `--fuzzy` option or the following url: https://drive.google.com/uc?id=None\n",
      "  warnings.warn(\n",
      "Downloading...\n",
      "From: https://drive.google.com/drive/folders/16wjR5ZgRj2DTJEirsCenTiF1FGzFW0X6\n",
      "To: /Users/ines/code/ipl1988/Hemorrhage_detection/16wjR5ZgRj2DTJEirsCenTiF1FGzFW0X6\n",
      "1.19MB [00:00, 13.9MB/s]\n"
     ]
    }
   ],
   "source": [
    "#Accessing the dataset stored in Google Drive\n",
    "\n",
    "!gdown \"https://drive.google.com/drive/folders/16wjR5ZgRj2DTJEirsCenTiF1FGzFW0X6\" "
   ]
  },
  {
   "cell_type": "code",
   "execution_count": 8,
   "id": "558cb615-1319-4bae-80b9-99212e116db0",
   "metadata": {},
   "outputs": [],
   "source": [
    "# Storing the location of our data in 2 variables that we can re use later\n",
    "\n",
    "train_data_dir = \"download_dataset_100/training_set/\"\n",
    "test_data_dir = \"download_dataset_100/test_set/\""
   ]
  },
  {
   "cell_type": "code",
   "execution_count": null,
   "id": "b0973102-4290-4811-81f0-5707118b30e3",
   "metadata": {},
   "outputs": [],
   "source": [
    "# Accessing one image\n",
    "\n",
    "img= load_img(f\"{train_data_dir}"
   ]
  }
 ],
 "metadata": {
  "kernelspec": {
   "display_name": "Python 3 (ipykernel)",
   "language": "python",
   "name": "python3"
  },
  "language_info": {
   "codemirror_mode": {
    "name": "ipython",
    "version": 3
   },
   "file_extension": ".py",
   "mimetype": "text/x-python",
   "name": "python",
   "nbconvert_exporter": "python",
   "pygments_lexer": "ipython3",
   "version": "3.11.7"
  }
 },
 "nbformat": 4,
 "nbformat_minor": 5
}
