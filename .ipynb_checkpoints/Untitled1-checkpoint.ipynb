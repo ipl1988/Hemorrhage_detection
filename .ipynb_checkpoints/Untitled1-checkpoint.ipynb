{
 "cells": [
  {
   "cell_type": "markdown",
   "id": "b594337c-53d5-449d-891a-3a76bb063e61",
   "metadata": {},
   "source": [
    "# Bone"
   ]
  },
  {
   "cell_type": "code",
   "execution_count": null,
   "id": "5c29d932-02ff-4287-ba9d-31607f17f7fc",
   "metadata": {},
   "outputs": [],
   "source": [
    "# Step 1: Windowing for bone tissue\n",
    "window_center = 700\n",
    "window_width = 3200\n",
    "min_val = window_center - (window_width / 2)\n",
    "max_val = window_center + (window_width / 2)\n",
    "windowed_image_bone = np.clip(ds.pixel_array, min_val, max_val)\n",
    "\n",
    "# Step 2: Normalize\n",
    "normalized_image_bone = (windowed_image_bone - min_val) / (max_val - min_val)"
   ]
  },
  {
   "cell_type": "code",
   "execution_count": 2,
   "id": "7525d69a-71a5-4824-b3f6-74b53fe89101",
   "metadata": {},
   "outputs": [
    {
     "ename": "NameError",
     "evalue": "name 'plt' is not defined",
     "output_type": "error",
     "traceback": [
      "\u001b[0;31m---------------------------------------------------------------------------\u001b[0m",
      "\u001b[0;31mNameError\u001b[0m                                 Traceback (most recent call last)",
      "Cell \u001b[0;32mIn[2], line 1\u001b[0m\n\u001b[0;32m----> 1\u001b[0m \u001b[43mplt\u001b[49m\u001b[38;5;241m.\u001b[39mimshow(normalized_image_bone, cmap\u001b[38;5;241m=\u001b[39m\u001b[38;5;124m'\u001b[39m\u001b[38;5;124mgray\u001b[39m\u001b[38;5;124m'\u001b[39m)\n",
      "\u001b[0;31mNameError\u001b[0m: name 'plt' is not defined"
     ]
    }
   ],
   "source": [
    "plt.imshow(normalized_image_bone, cmap='gray')\n"
   ]
  },
  {
   "cell_type": "code",
   "execution_count": null,
   "id": "3bf3e265-d18e-4c25-b9ce-4f2d1e6cdb83",
   "metadata": {},
   "outputs": [],
   "source": [
    "np.min(normalized_image_bone)"
   ]
  },
  {
   "cell_type": "code",
   "execution_count": null,
   "id": "df325201-8085-4d22-8fb4-9a65b379ecca",
   "metadata": {},
   "outputs": [],
   "source": []
  }
 ],
 "metadata": {
  "kernelspec": {
   "display_name": "Python 3 (ipykernel)",
   "language": "python",
   "name": "python3"
  },
  "language_info": {
   "codemirror_mode": {
    "name": "ipython",
    "version": 3
   },
   "file_extension": ".py",
   "mimetype": "text/x-python",
   "name": "python",
   "nbconvert_exporter": "python",
   "pygments_lexer": "ipython3",
   "version": "3.10.6"
  }
 },
 "nbformat": 4,
 "nbformat_minor": 5
}
