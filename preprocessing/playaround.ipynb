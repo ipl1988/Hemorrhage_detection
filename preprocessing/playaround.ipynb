{
 "cells": [
  {
   "cell_type": "code",
   "execution_count": 1,
   "id": "9f393e27-f0b1-4884-91c2-d28bdb5fa9ca",
   "metadata": {},
   "outputs": [],
   "source": [
    "import pandas as pd"
   ]
  },
  {
   "cell_type": "code",
   "execution_count": 2,
   "id": "97770759-53b5-451a-9468-8c8b12735c40",
   "metadata": {},
   "outputs": [],
   "source": [
    "df = pd.read_csv(\"/home/sebastian/code/ipl1988/raw_data/stage_2_train.csv\")"
   ]
  },
  {
   "cell_type": "code",
   "execution_count": 3,
   "id": "700a4429-6e4f-49b4-a743-e9b937964e54",
   "metadata": {},
   "outputs": [],
   "source": [
    "df['base_ID'] = df['ID'].str.extract(r'^(ID_[^_]+)')"
   ]
  },
  {
   "cell_type": "code",
   "execution_count": 20,
   "id": "ad4bd225-9b31-41c5-81de-eeee7b97d2c3",
   "metadata": {},
   "outputs": [],
   "source": [
    "true_labels = []\n",
    "\n",
    "for img in to_check:\n",
    "    img_only = img.split(\".\")[0]\n",
    "    true_labels.append(df[df[\"base_ID\"] == img_only][\"Label\"].iloc[-1])"
   ]
  },
  {
   "cell_type": "code",
   "execution_count": 5,
   "id": "3bafdcbb-7bdc-48c9-ab6c-6addc8267040",
   "metadata": {},
   "outputs": [],
   "source": [
    "to_check = ['ID_7835d8bb8.png', 'ID_415c90b8a.png', 'ID_9c4537895.png', 'ID_96a804092.png', 'ID_430683270.png', 'ID_24d8b621c.png', 'ID_74f7ba785.png', 'ID_2030d6a87.png', 'ID_7cc79ab56.png', 'ID_32e2dbd93.png', 'ID_7b81fa0b9.png', 'ID_e5dd11687.png', 'ID_1585d8bd4.png', 'ID_14dfc5b42.png', 'ID_fa96e7489.png', 'ID_8e2debabb.png', 'ID_4c6577818.png', 'ID_9841611d1.png', 'ID_b60026539.png', 'ID_b8f52da3e.png', 'ID_17e94d82c.png', 'ID_fc093a6a8.png', 'ID_cc9d493f3.png', 'ID_7982995c2.png', 'ID_b1836c156.png', 'ID_810831e99.png', 'ID_eff041771.png', 'ID_b5458de2a.png', 'ID_887fc1546.png', 'ID_4cee84e7d.png', 'ID_087da2cde.png', 'ID_c84c2a6cb.png', 'ID_c3cd6f4bd.png', 'ID_4dad038a8.png', 'ID_7eaf6c3e3.png', 'ID_783ccff4b.png', 'ID_61d71156d.png', 'ID_f2f7ec499.png', 'ID_528a76c25.png', 'ID_4fff99ddd.png', 'ID_0ede93aa5.png', 'ID_8474a4308.png', 'ID_19f732fe8.png']"
   ]
  },
  {
   "cell_type": "code",
   "execution_count": 24,
   "id": "a1ac6c8c-1471-47e7-8715-d7c6fba20cb6",
   "metadata": {},
   "outputs": [
    {
     "name": "stdout",
     "output_type": "stream",
     "text": [
      "[('ID_7835d8bb8.png', 0), ('ID_415c90b8a.png', 0), ('ID_9c4537895.png', 1), ('ID_96a804092.png', 0), ('ID_430683270.png', 0), ('ID_24d8b621c.png', 0), ('ID_74f7ba785.png', 0), ('ID_2030d6a87.png', 0), ('ID_7cc79ab56.png', 0), ('ID_32e2dbd93.png', 0), ('ID_7b81fa0b9.png', 0), ('ID_e5dd11687.png', 0), ('ID_1585d8bd4.png', 0), ('ID_14dfc5b42.png', 0), ('ID_fa96e7489.png', 0), ('ID_8e2debabb.png', 0), ('ID_4c6577818.png', 1), ('ID_9841611d1.png', 0), ('ID_b60026539.png', 1), ('ID_b8f52da3e.png', 0), ('ID_17e94d82c.png', 0), ('ID_fc093a6a8.png', 1), ('ID_cc9d493f3.png', 0), ('ID_7982995c2.png', 0), ('ID_b1836c156.png', 0), ('ID_810831e99.png', 0), ('ID_eff041771.png', 0), ('ID_b5458de2a.png', 0), ('ID_887fc1546.png', 0), ('ID_4cee84e7d.png', 0), ('ID_087da2cde.png', 0), ('ID_c84c2a6cb.png', 0), ('ID_c3cd6f4bd.png', 0), ('ID_4dad038a8.png', 0), ('ID_7eaf6c3e3.png', 1), ('ID_783ccff4b.png', 0), ('ID_61d71156d.png', 0), ('ID_f2f7ec499.png', 0), ('ID_528a76c25.png', 0), ('ID_4fff99ddd.png', 1), ('ID_0ede93aa5.png', 0), ('ID_8474a4308.png', 0), ('ID_19f732fe8.png', 0)]\n"
     ]
    },
    {
     "ename": "NameError",
     "evalue": "name 'labels' is not defined",
     "output_type": "error",
     "traceback": [
      "\u001b[0;31m---------------------------------------------------------------------------\u001b[0m",
      "\u001b[0;31mNameError\u001b[0m                                 Traceback (most recent call last)",
      "Cell \u001b[0;32mIn[24], line 12\u001b[0m\n\u001b[1;32m     10\u001b[0m \u001b[38;5;66;03m# Converting back to labels list\u001b[39;00m\n\u001b[1;32m     11\u001b[0m sorted_labels \u001b[38;5;241m=\u001b[39m \u001b[38;5;28mlist\u001b[39m(sorted_labels)\n\u001b[0;32m---> 12\u001b[0m \u001b[38;5;28mprint\u001b[39m(sorted_labels, \u001b[43mlabels\u001b[49m)\n",
      "\u001b[0;31mNameError\u001b[0m: name 'labels' is not defined"
     ]
    }
   ],
   "source": [
    "zipped = list(zip(to_check, true_labels))\n",
    "print(zipped)\n",
    "\n",
    "# Sorting the zipped list by the image names (alphanumeric order)\n",
    "sorted_zipped = sorted(zipped, key=lambda x: x[0])\n",
    "\n",
    "# Unzipping the sorted list back into images and labels\n",
    "sorted_images, sorted_labels = zip(*sorted_zipped)\n",
    "\n",
    "# Converting back to labels list\n",
    "sorted_labels = list(sorted_labels)\n",
    "print(sorted_labels, labels)"
   ]
  },
  {
   "cell_type": "code",
   "execution_count": null,
   "id": "3d3a14f1-27a1-4af1-b8dd-02774d2fffea",
   "metadata": {},
   "outputs": [],
   "source": [
    "[('ID_7835d8bb8.png', 0), ('ID_415c90b8a.png', 0), ('ID_9c4537895.png', 1), ('ID_96a804092.png', 0), ('ID_430683270.png', 0), ('ID_24d8b621c.png', 0), ('ID_74f7ba785.png', 0), ('ID_2030d6a87.png', 0), ('ID_7cc79ab56.png', 0), ('ID_32e2dbd93.png', 0), ('ID_7b81fa0b9.png', 0), ('ID_e5dd11687.png', 0), ('ID_1585d8bd4.png', 0), ('ID_14dfc5b42.png', 0), ('ID_fa96e7489.png', 0), ('ID_8e2debabb.png', 0), ('ID_4c6577818.png', 1), ('ID_9841611d1.png', 0), ('ID_b60026539.png', 1), ('ID_b8f52da3e.png', 0), ('ID_17e94d82c.png', 0), ('ID_fc093a6a8.png', 1), ('ID_cc9d493f3.png', 0), ('ID_7982995c2.png', 0), ('ID_b1836c156.png', 0), ('ID_810831e99.png', 0), ('ID_eff041771.png', 0), ('ID_b5458de2a.png', 0), ('ID_887fc1546.png', 0), ('ID_4cee84e7d.png', 0), ('ID_087da2cde.png', 0), ('ID_c84c2a6cb.png', 0), ('ID_c3cd6f4bd.png', 0), ('ID_4dad038a8.png', 0), ('ID_7eaf6c3e3.png', 1), ('ID_783ccff4b.png', 0), ('ID_61d71156d.png', 0), ('ID_f2f7ec499.png', 0), ('ID_528a76c25.png', 0), ('ID_4fff99ddd.png', 1),"
   ]
  }
 ],
 "metadata": {
  "kernelspec": {
   "display_name": "Python 3 (ipykernel)",
   "language": "python",
   "name": "python3"
  },
  "language_info": {
   "codemirror_mode": {
    "name": "ipython",
    "version": 3
   },
   "file_extension": ".py",
   "mimetype": "text/x-python",
   "name": "python",
   "nbconvert_exporter": "python",
   "pygments_lexer": "ipython3",
   "version": "3.10.6"
  }
 },
 "nbformat": 4,
 "nbformat_minor": 5
}
